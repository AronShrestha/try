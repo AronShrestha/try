{
 "cells": [
  {
   "cell_type": "markdown",
   "metadata": {},
   "source": [
    "https://keras.io/applications/#mobilenet\n",
    "\n",
    "https://gist.github.com/yrevar/942d3a0ac09ec9e5eb3a#file-imagenet1000_clsidx_to_labels-txt"
   ]
  },
  {
   "cell_type": "code",
   "execution_count": 92,
   "metadata": {},
   "outputs": [],
   "source": [
    "from keras.applications import mobilenet\n",
    "from keras.layers import Input,UpSampling2D,Flatten,BatchNormalization,Dense,Dropout,GlobalAveragePooling2D\n",
    "from keras import optimizers\n",
    "import tensorflow as tf\n",
    "from keras.models import Model,Sequential"
   ]
  },
  {
   "cell_type": "code",
   "execution_count": 93,
   "metadata": {},
   "outputs": [],
   "source": [
    "import tensorflow as tf\n",
    "from keras.preprocessing.image import ImageDataGenerator\n",
    "import pandas as pd\n",
    "import numpy as np\n",
    "from keras.preprocessing import image\n",
    "import os,time\n",
    "import matplotlib.pyplot as plt"
   ]
  },
  {
   "cell_type": "code",
   "execution_count": 94,
   "metadata": {},
   "outputs": [],
   "source": [
    "IMAGE_SIZE = [224,224]"
   ]
  },
  {
   "cell_type": "code",
   "execution_count": 95,
   "metadata": {},
   "outputs": [],
   "source": [
    "mobnet=mobilenet.MobileNet(include_top=False,input_shape=IMAGE_SIZE+[3],weights='imagenet')"
   ]
  },
  {
   "cell_type": "code",
   "execution_count": 96,
   "metadata": {
    "scrolled": true
   },
   "outputs": [],
   "source": [
    "Image_resize = 224\n",
    "pooling = 'avg'\n",
    "\n",
    "DENSE_LAYER_ACTIVATION = 'softmax'\n",
    "OBJECTIVE_FUNCTION = 'categorical_crossentropy'\n",
    "\n"
   ]
  },
  {
   "cell_type": "code",
   "execution_count": 97,
   "metadata": {},
   "outputs": [],
   "source": [
    "LOSS_METRICS = ['acurracy']\n",
    "num_epochs = 60\n",
    "STEPS_PER_EPOCH_TRAINING = 10\n",
    "STEPS_PER_EPOCH_VALIDATION = 10\n",
    "EARLY_STOP_PATIENCE = 3\n",
    "NUM_CLASSES = 100\n",
    "CHANNLS = 3"
   ]
  },
  {
   "cell_type": "code",
   "execution_count": null,
   "metadata": {},
   "outputs": [],
   "source": []
  },
  {
   "cell_type": "code",
   "execution_count": 98,
   "metadata": {},
   "outputs": [
    {
     "name": "stdout",
     "output_type": "stream",
     "text": [
      "Model: \"sequential_2\"\n",
      "_________________________________________________________________\n",
      " Layer (type)                Output Shape              Param #   \n",
      "=================================================================\n",
      " mobilenet_1.00_224 (Functio  (None, 1024)             3228864   \n",
      " nal)                                                            \n",
      "                                                                 \n",
      " dense_2 (Dense)             (None, 100)               102500    \n",
      "                                                                 \n",
      "=================================================================\n",
      "Total params: 3,331,364\n",
      "Trainable params: 102,500\n",
      "Non-trainable params: 3,228,864\n",
      "_________________________________________________________________\n"
     ]
    }
   ],
   "source": [
    "model = Sequential()\n",
    "model.add(mobilenet.MobileNet(include_top=False,input_shape=IMAGE_SIZE+[3],weights='imagenet',pooling=pooling))\n",
    "model.add(Dense(100,activation=DENSE_LAYER_ACTIVATION))\n",
    "model.layers[0].trainable  = False\n",
    "model.summary()\n",
    "sgd = tf.keras.optimizers.SGD(learning_rate = 0.01 ,decay = 1e-6,momentum =0.9,nesterov=True)\n",
    "model.compile(optimizer = sgd,loss=OBJECTIVE_FUNCTION,metrics=LOSS_METRICS)"
   ]
  },
  {
   "cell_type": "code",
   "execution_count": 99,
   "metadata": {},
   "outputs": [
    {
     "data": {
      "text/plain": [
       "'/home/aron/Documents/ImageClassification_DjangoApp-master/notebook'"
      ]
     },
     "execution_count": 99,
     "metadata": {},
     "output_type": "execute_result"
    }
   ],
   "source": [
    "import os\n",
    "import pandas as pd\n",
    "os.getcwd()"
   ]
  },
  {
   "cell_type": "code",
   "execution_count": 100,
   "metadata": {},
   "outputs": [],
   "source": [
    "dic = {}\n",
    "i  = 0\n",
    "current = os.getcwd()\n",
    "for direc in os.listdir(current+'/animals'):\n",
    "    dic[i] =current+'/animals/'+direc\n",
    "    i+=1\n",
    "\n",
    "    \n",
    "    \n"
   ]
  },
  {
   "cell_type": "code",
   "execution_count": 101,
   "metadata": {},
   "outputs": [],
   "source": [
    "# dic = {}\n",
    "# i  = 0\n",
    "# for k in range(0,90):\n",
    "#     k =str(k)\n",
    "#     dic[k]=[]\n",
    "# # print(dic)\n",
    "# current = os.getcwd()\n",
    "# for direc in os.listdir(current+'/animals'):\n",
    "    \n",
    "#     j=0\n",
    "#     index=str(i)\n",
    "#     parent= 'animals/'+direc\n",
    "# #     print(i)\n",
    "#     for l in os.listdir(parent):\n",
    "#         j+=1\n",
    "# #         print('j',j)\n",
    "#         c =parent+l\n",
    "#         dic[index].append(c)\n",
    "#     if i<89: \n",
    "#         i=i+1\n",
    "# #     print('1111111111111111111111')\n",
    "\n",
    "    \n",
    "    \n"
   ]
  },
  {
   "cell_type": "code",
   "execution_count": 102,
   "metadata": {},
   "outputs": [
    {
     "data": {
      "text/plain": [
       "{0: '/home/aron/Documents/ImageClassification_DjangoApp-master/notebook/animals/horse',\n",
       " 1: '/home/aron/Documents/ImageClassification_DjangoApp-master/notebook/animals/squirrel',\n",
       " 2: '/home/aron/Documents/ImageClassification_DjangoApp-master/notebook/animals/bat',\n",
       " 3: '/home/aron/Documents/ImageClassification_DjangoApp-master/notebook/animals/bison',\n",
       " 4: '/home/aron/Documents/ImageClassification_DjangoApp-master/notebook/animals/otter',\n",
       " 5: '/home/aron/Documents/ImageClassification_DjangoApp-master/notebook/animals/hedgehog',\n",
       " 6: '/home/aron/Documents/ImageClassification_DjangoApp-master/notebook/animals/lobster',\n",
       " 7: '/home/aron/Documents/ImageClassification_DjangoApp-master/notebook/animals/hyena',\n",
       " 8: '/home/aron/Documents/ImageClassification_DjangoApp-master/notebook/animals/raccoon',\n",
       " 9: '/home/aron/Documents/ImageClassification_DjangoApp-master/notebook/animals/shark',\n",
       " 10: '/home/aron/Documents/ImageClassification_DjangoApp-master/notebook/animals/sheep',\n",
       " 11: '/home/aron/Documents/ImageClassification_DjangoApp-master/notebook/animals/antelope',\n",
       " 12: '/home/aron/Documents/ImageClassification_DjangoApp-master/notebook/animals/possum',\n",
       " 13: '/home/aron/Documents/ImageClassification_DjangoApp-master/notebook/animals/woodpecker',\n",
       " 14: '/home/aron/Documents/ImageClassification_DjangoApp-master/notebook/animals/sandpiper',\n",
       " 15: '/home/aron/Documents/ImageClassification_DjangoApp-master/notebook/animals/lizard',\n",
       " 16: '/home/aron/Documents/ImageClassification_DjangoApp-master/notebook/animals/starfish',\n",
       " 17: '/home/aron/Documents/ImageClassification_DjangoApp-master/notebook/animals/zebra',\n",
       " 18: '/home/aron/Documents/ImageClassification_DjangoApp-master/notebook/animals/bear',\n",
       " 19: '/home/aron/Documents/ImageClassification_DjangoApp-master/notebook/animals/kangaroo',\n",
       " 20: '/home/aron/Documents/ImageClassification_DjangoApp-master/notebook/animals/pig',\n",
       " 21: '/home/aron/Documents/ImageClassification_DjangoApp-master/notebook/animals/leopard',\n",
       " 22: '/home/aron/Documents/ImageClassification_DjangoApp-master/notebook/animals/turtle',\n",
       " 23: '/home/aron/Documents/ImageClassification_DjangoApp-master/notebook/animals/crab',\n",
       " 24: '/home/aron/Documents/ImageClassification_DjangoApp-master/notebook/animals/rat',\n",
       " 25: '/home/aron/Documents/ImageClassification_DjangoApp-master/notebook/animals/tiger',\n",
       " 26: '/home/aron/Documents/ImageClassification_DjangoApp-master/notebook/animals/owl',\n",
       " 27: '/home/aron/Documents/ImageClassification_DjangoApp-master/notebook/animals/seal',\n",
       " 28: '/home/aron/Documents/ImageClassification_DjangoApp-master/notebook/animals/fly',\n",
       " 29: '/home/aron/Documents/ImageClassification_DjangoApp-master/notebook/animals/coyote',\n",
       " 30: '/home/aron/Documents/ImageClassification_DjangoApp-master/notebook/animals/koala',\n",
       " 31: '/home/aron/Documents/ImageClassification_DjangoApp-master/notebook/animals/gorilla',\n",
       " 32: '/home/aron/Documents/ImageClassification_DjangoApp-master/notebook/animals/oyster',\n",
       " 33: '/home/aron/Documents/ImageClassification_DjangoApp-master/notebook/animals/pelecaniformes',\n",
       " 34: '/home/aron/Documents/ImageClassification_DjangoApp-master/notebook/animals/jellyfish',\n",
       " 35: '/home/aron/Documents/ImageClassification_DjangoApp-master/notebook/animals/seahorse',\n",
       " 36: '/home/aron/Documents/ImageClassification_DjangoApp-master/notebook/animals/boar',\n",
       " 37: '/home/aron/Documents/ImageClassification_DjangoApp-master/notebook/animals/squid',\n",
       " 38: '/home/aron/Documents/ImageClassification_DjangoApp-master/notebook/animals/ox',\n",
       " 39: '/home/aron/Documents/ImageClassification_DjangoApp-master/notebook/animals/sparrow',\n",
       " 40: '/home/aron/Documents/ImageClassification_DjangoApp-master/notebook/animals/goldfish',\n",
       " 41: '/home/aron/Documents/ImageClassification_DjangoApp-master/notebook/animals/butterfly',\n",
       " 42: '/home/aron/Documents/ImageClassification_DjangoApp-master/notebook/animals/fox',\n",
       " 43: '/home/aron/Documents/ImageClassification_DjangoApp-master/notebook/animals/lion',\n",
       " 44: '/home/aron/Documents/ImageClassification_DjangoApp-master/notebook/animals/goat',\n",
       " 45: '/home/aron/Documents/ImageClassification_DjangoApp-master/notebook/animals/orangutan',\n",
       " 46: '/home/aron/Documents/ImageClassification_DjangoApp-master/notebook/animals/rhinoceros',\n",
       " 47: '/home/aron/Documents/ImageClassification_DjangoApp-master/notebook/animals/okapi',\n",
       " 48: '/home/aron/Documents/ImageClassification_DjangoApp-master/notebook/animals/octopus',\n",
       " 49: '/home/aron/Documents/ImageClassification_DjangoApp-master/notebook/animals/goose',\n",
       " 50: '/home/aron/Documents/ImageClassification_DjangoApp-master/notebook/animals/swan',\n",
       " 51: '/home/aron/Documents/ImageClassification_DjangoApp-master/notebook/animals/dragonfly',\n",
       " 52: '/home/aron/Documents/ImageClassification_DjangoApp-master/notebook/animals/badger',\n",
       " 53: '/home/aron/Documents/ImageClassification_DjangoApp-master/notebook/animals/panda',\n",
       " 54: '/home/aron/Documents/ImageClassification_DjangoApp-master/notebook/animals/grasshopper',\n",
       " 55: '/home/aron/Documents/ImageClassification_DjangoApp-master/notebook/animals/deer',\n",
       " 56: '/home/aron/Documents/ImageClassification_DjangoApp-master/notebook/animals/wolf',\n",
       " 57: '/home/aron/Documents/ImageClassification_DjangoApp-master/notebook/animals/duck',\n",
       " 58: '/home/aron/Documents/ImageClassification_DjangoApp-master/notebook/animals/beetle',\n",
       " 59: '/home/aron/Documents/ImageClassification_DjangoApp-master/notebook/animals/flamingo',\n",
       " 60: '/home/aron/Documents/ImageClassification_DjangoApp-master/notebook/animals/caterpillar',\n",
       " 61: '/home/aron/Documents/ImageClassification_DjangoApp-master/notebook/animals/chimpanzee',\n",
       " 62: '/home/aron/Documents/ImageClassification_DjangoApp-master/notebook/animals/cockroach',\n",
       " 63: '/home/aron/Documents/ImageClassification_DjangoApp-master/notebook/animals/cat',\n",
       " 64: '/home/aron/Documents/ImageClassification_DjangoApp-master/notebook/animals/parrot',\n",
       " 65: '/home/aron/Documents/ImageClassification_DjangoApp-master/notebook/animals/hamster',\n",
       " 66: '/home/aron/Documents/ImageClassification_DjangoApp-master/notebook/animals/eagle',\n",
       " 67: '/home/aron/Documents/ImageClassification_DjangoApp-master/notebook/animals/reindeer',\n",
       " 68: '/home/aron/Documents/ImageClassification_DjangoApp-master/notebook/animals/pigeon',\n",
       " 69: '/home/aron/Documents/ImageClassification_DjangoApp-master/notebook/animals/dolphin',\n",
       " 70: '/home/aron/Documents/ImageClassification_DjangoApp-master/notebook/animals/bee',\n",
       " 71: '/home/aron/Documents/ImageClassification_DjangoApp-master/notebook/animals/porcupine',\n",
       " 72: '/home/aron/Documents/ImageClassification_DjangoApp-master/notebook/animals/dog',\n",
       " 73: '/home/aron/Documents/ImageClassification_DjangoApp-master/notebook/animals/ladybugs',\n",
       " 74: '/home/aron/Documents/ImageClassification_DjangoApp-master/notebook/animals/penguin',\n",
       " 75: '/home/aron/Documents/ImageClassification_DjangoApp-master/notebook/animals/moth',\n",
       " 76: '/home/aron/Documents/ImageClassification_DjangoApp-master/notebook/animals/cow',\n",
       " 77: '/home/aron/Documents/ImageClassification_DjangoApp-master/notebook/animals/donkey',\n",
       " 78: '/home/aron/Documents/ImageClassification_DjangoApp-master/notebook/animals/hare',\n",
       " 79: '/home/aron/Documents/ImageClassification_DjangoApp-master/notebook/animals/hippopotamus',\n",
       " 80: '/home/aron/Documents/ImageClassification_DjangoApp-master/notebook/animals/hornbill',\n",
       " 81: '/home/aron/Documents/ImageClassification_DjangoApp-master/notebook/animals/wombat',\n",
       " 82: '/home/aron/Documents/ImageClassification_DjangoApp-master/notebook/animals/elephant',\n",
       " 83: '/home/aron/Documents/ImageClassification_DjangoApp-master/notebook/animals/turkey',\n",
       " 84: '/home/aron/Documents/ImageClassification_DjangoApp-master/notebook/animals/snake',\n",
       " 85: '/home/aron/Documents/ImageClassification_DjangoApp-master/notebook/animals/mosquito',\n",
       " 86: '/home/aron/Documents/ImageClassification_DjangoApp-master/notebook/animals/crow',\n",
       " 87: '/home/aron/Documents/ImageClassification_DjangoApp-master/notebook/animals/hummingbird',\n",
       " 88: '/home/aron/Documents/ImageClassification_DjangoApp-master/notebook/animals/mouse',\n",
       " 89: '/home/aron/Documents/ImageClassification_DjangoApp-master/notebook/animals/whale'}"
      ]
     },
     "execution_count": 102,
     "metadata": {},
     "output_type": "execute_result"
    }
   ],
   "source": [
    "dic"
   ]
  },
  {
   "cell_type": "code",
   "execution_count": null,
   "metadata": {},
   "outputs": [],
   "source": []
  },
  {
   "cell_type": "code",
   "execution_count": 103,
   "metadata": {
    "scrolled": true
   },
   "outputs": [],
   "source": [
    "inputs=[]\n",
    "lables =[]\n",
    "for key,values in dic.items():\n",
    " \n",
    "        inputs.append(values)\n",
    "        lables.append(key)\n",
    "    "
   ]
  },
  {
   "cell_type": "code",
   "execution_count": 104,
   "metadata": {},
   "outputs": [
    {
     "data": {
      "text/plain": [
       "['/home/aron/Documents/ImageClassification_DjangoApp-master/notebook/animals/horse',\n",
       " '/home/aron/Documents/ImageClassification_DjangoApp-master/notebook/animals/squirrel',\n",
       " '/home/aron/Documents/ImageClassification_DjangoApp-master/notebook/animals/bat',\n",
       " '/home/aron/Documents/ImageClassification_DjangoApp-master/notebook/animals/bison',\n",
       " '/home/aron/Documents/ImageClassification_DjangoApp-master/notebook/animals/otter',\n",
       " '/home/aron/Documents/ImageClassification_DjangoApp-master/notebook/animals/hedgehog',\n",
       " '/home/aron/Documents/ImageClassification_DjangoApp-master/notebook/animals/lobster',\n",
       " '/home/aron/Documents/ImageClassification_DjangoApp-master/notebook/animals/hyena',\n",
       " '/home/aron/Documents/ImageClassification_DjangoApp-master/notebook/animals/raccoon',\n",
       " '/home/aron/Documents/ImageClassification_DjangoApp-master/notebook/animals/shark',\n",
       " '/home/aron/Documents/ImageClassification_DjangoApp-master/notebook/animals/sheep',\n",
       " '/home/aron/Documents/ImageClassification_DjangoApp-master/notebook/animals/antelope',\n",
       " '/home/aron/Documents/ImageClassification_DjangoApp-master/notebook/animals/possum',\n",
       " '/home/aron/Documents/ImageClassification_DjangoApp-master/notebook/animals/woodpecker',\n",
       " '/home/aron/Documents/ImageClassification_DjangoApp-master/notebook/animals/sandpiper',\n",
       " '/home/aron/Documents/ImageClassification_DjangoApp-master/notebook/animals/lizard',\n",
       " '/home/aron/Documents/ImageClassification_DjangoApp-master/notebook/animals/starfish',\n",
       " '/home/aron/Documents/ImageClassification_DjangoApp-master/notebook/animals/zebra',\n",
       " '/home/aron/Documents/ImageClassification_DjangoApp-master/notebook/animals/bear',\n",
       " '/home/aron/Documents/ImageClassification_DjangoApp-master/notebook/animals/kangaroo',\n",
       " '/home/aron/Documents/ImageClassification_DjangoApp-master/notebook/animals/pig',\n",
       " '/home/aron/Documents/ImageClassification_DjangoApp-master/notebook/animals/leopard',\n",
       " '/home/aron/Documents/ImageClassification_DjangoApp-master/notebook/animals/turtle',\n",
       " '/home/aron/Documents/ImageClassification_DjangoApp-master/notebook/animals/crab',\n",
       " '/home/aron/Documents/ImageClassification_DjangoApp-master/notebook/animals/rat',\n",
       " '/home/aron/Documents/ImageClassification_DjangoApp-master/notebook/animals/tiger',\n",
       " '/home/aron/Documents/ImageClassification_DjangoApp-master/notebook/animals/owl',\n",
       " '/home/aron/Documents/ImageClassification_DjangoApp-master/notebook/animals/seal',\n",
       " '/home/aron/Documents/ImageClassification_DjangoApp-master/notebook/animals/fly',\n",
       " '/home/aron/Documents/ImageClassification_DjangoApp-master/notebook/animals/coyote',\n",
       " '/home/aron/Documents/ImageClassification_DjangoApp-master/notebook/animals/koala',\n",
       " '/home/aron/Documents/ImageClassification_DjangoApp-master/notebook/animals/gorilla',\n",
       " '/home/aron/Documents/ImageClassification_DjangoApp-master/notebook/animals/oyster',\n",
       " '/home/aron/Documents/ImageClassification_DjangoApp-master/notebook/animals/pelecaniformes',\n",
       " '/home/aron/Documents/ImageClassification_DjangoApp-master/notebook/animals/jellyfish',\n",
       " '/home/aron/Documents/ImageClassification_DjangoApp-master/notebook/animals/seahorse',\n",
       " '/home/aron/Documents/ImageClassification_DjangoApp-master/notebook/animals/boar',\n",
       " '/home/aron/Documents/ImageClassification_DjangoApp-master/notebook/animals/squid',\n",
       " '/home/aron/Documents/ImageClassification_DjangoApp-master/notebook/animals/ox',\n",
       " '/home/aron/Documents/ImageClassification_DjangoApp-master/notebook/animals/sparrow',\n",
       " '/home/aron/Documents/ImageClassification_DjangoApp-master/notebook/animals/goldfish',\n",
       " '/home/aron/Documents/ImageClassification_DjangoApp-master/notebook/animals/butterfly',\n",
       " '/home/aron/Documents/ImageClassification_DjangoApp-master/notebook/animals/fox',\n",
       " '/home/aron/Documents/ImageClassification_DjangoApp-master/notebook/animals/lion',\n",
       " '/home/aron/Documents/ImageClassification_DjangoApp-master/notebook/animals/goat',\n",
       " '/home/aron/Documents/ImageClassification_DjangoApp-master/notebook/animals/orangutan',\n",
       " '/home/aron/Documents/ImageClassification_DjangoApp-master/notebook/animals/rhinoceros',\n",
       " '/home/aron/Documents/ImageClassification_DjangoApp-master/notebook/animals/okapi',\n",
       " '/home/aron/Documents/ImageClassification_DjangoApp-master/notebook/animals/octopus',\n",
       " '/home/aron/Documents/ImageClassification_DjangoApp-master/notebook/animals/goose',\n",
       " '/home/aron/Documents/ImageClassification_DjangoApp-master/notebook/animals/swan',\n",
       " '/home/aron/Documents/ImageClassification_DjangoApp-master/notebook/animals/dragonfly',\n",
       " '/home/aron/Documents/ImageClassification_DjangoApp-master/notebook/animals/badger',\n",
       " '/home/aron/Documents/ImageClassification_DjangoApp-master/notebook/animals/panda',\n",
       " '/home/aron/Documents/ImageClassification_DjangoApp-master/notebook/animals/grasshopper',\n",
       " '/home/aron/Documents/ImageClassification_DjangoApp-master/notebook/animals/deer',\n",
       " '/home/aron/Documents/ImageClassification_DjangoApp-master/notebook/animals/wolf',\n",
       " '/home/aron/Documents/ImageClassification_DjangoApp-master/notebook/animals/duck',\n",
       " '/home/aron/Documents/ImageClassification_DjangoApp-master/notebook/animals/beetle',\n",
       " '/home/aron/Documents/ImageClassification_DjangoApp-master/notebook/animals/flamingo',\n",
       " '/home/aron/Documents/ImageClassification_DjangoApp-master/notebook/animals/caterpillar',\n",
       " '/home/aron/Documents/ImageClassification_DjangoApp-master/notebook/animals/chimpanzee',\n",
       " '/home/aron/Documents/ImageClassification_DjangoApp-master/notebook/animals/cockroach',\n",
       " '/home/aron/Documents/ImageClassification_DjangoApp-master/notebook/animals/cat',\n",
       " '/home/aron/Documents/ImageClassification_DjangoApp-master/notebook/animals/parrot',\n",
       " '/home/aron/Documents/ImageClassification_DjangoApp-master/notebook/animals/hamster',\n",
       " '/home/aron/Documents/ImageClassification_DjangoApp-master/notebook/animals/eagle',\n",
       " '/home/aron/Documents/ImageClassification_DjangoApp-master/notebook/animals/reindeer',\n",
       " '/home/aron/Documents/ImageClassification_DjangoApp-master/notebook/animals/pigeon',\n",
       " '/home/aron/Documents/ImageClassification_DjangoApp-master/notebook/animals/dolphin',\n",
       " '/home/aron/Documents/ImageClassification_DjangoApp-master/notebook/animals/bee',\n",
       " '/home/aron/Documents/ImageClassification_DjangoApp-master/notebook/animals/porcupine',\n",
       " '/home/aron/Documents/ImageClassification_DjangoApp-master/notebook/animals/dog',\n",
       " '/home/aron/Documents/ImageClassification_DjangoApp-master/notebook/animals/ladybugs',\n",
       " '/home/aron/Documents/ImageClassification_DjangoApp-master/notebook/animals/penguin',\n",
       " '/home/aron/Documents/ImageClassification_DjangoApp-master/notebook/animals/moth',\n",
       " '/home/aron/Documents/ImageClassification_DjangoApp-master/notebook/animals/cow',\n",
       " '/home/aron/Documents/ImageClassification_DjangoApp-master/notebook/animals/donkey',\n",
       " '/home/aron/Documents/ImageClassification_DjangoApp-master/notebook/animals/hare',\n",
       " '/home/aron/Documents/ImageClassification_DjangoApp-master/notebook/animals/hippopotamus',\n",
       " '/home/aron/Documents/ImageClassification_DjangoApp-master/notebook/animals/hornbill',\n",
       " '/home/aron/Documents/ImageClassification_DjangoApp-master/notebook/animals/wombat',\n",
       " '/home/aron/Documents/ImageClassification_DjangoApp-master/notebook/animals/elephant',\n",
       " '/home/aron/Documents/ImageClassification_DjangoApp-master/notebook/animals/turkey',\n",
       " '/home/aron/Documents/ImageClassification_DjangoApp-master/notebook/animals/snake',\n",
       " '/home/aron/Documents/ImageClassification_DjangoApp-master/notebook/animals/mosquito',\n",
       " '/home/aron/Documents/ImageClassification_DjangoApp-master/notebook/animals/crow',\n",
       " '/home/aron/Documents/ImageClassification_DjangoApp-master/notebook/animals/hummingbird',\n",
       " '/home/aron/Documents/ImageClassification_DjangoApp-master/notebook/animals/mouse',\n",
       " '/home/aron/Documents/ImageClassification_DjangoApp-master/notebook/animals/whale']"
      ]
     },
     "execution_count": 104,
     "metadata": {},
     "output_type": "execute_result"
    }
   ],
   "source": [
    "inputs"
   ]
  },
  {
   "cell_type": "code",
   "execution_count": 105,
   "metadata": {},
   "outputs": [],
   "source": [
    "df = pd.DataFrame()"
   ]
  },
  {
   "cell_type": "code",
   "execution_count": null,
   "metadata": {},
   "outputs": [],
   "source": []
  },
  {
   "cell_type": "code",
   "execution_count": 106,
   "metadata": {},
   "outputs": [],
   "source": [
    "df['image']=inputs"
   ]
  },
  {
   "cell_type": "code",
   "execution_count": 107,
   "metadata": {},
   "outputs": [],
   "source": [
    "df['label'] = lables"
   ]
  },
  {
   "cell_type": "code",
   "execution_count": 108,
   "metadata": {},
   "outputs": [
    {
     "data": {
      "text/html": [
       "<div>\n",
       "<style scoped>\n",
       "    .dataframe tbody tr th:only-of-type {\n",
       "        vertical-align: middle;\n",
       "    }\n",
       "\n",
       "    .dataframe tbody tr th {\n",
       "        vertical-align: top;\n",
       "    }\n",
       "\n",
       "    .dataframe thead th {\n",
       "        text-align: right;\n",
       "    }\n",
       "</style>\n",
       "<table border=\"1\" class=\"dataframe\">\n",
       "  <thead>\n",
       "    <tr style=\"text-align: right;\">\n",
       "      <th></th>\n",
       "      <th>image</th>\n",
       "      <th>label</th>\n",
       "    </tr>\n",
       "  </thead>\n",
       "  <tbody>\n",
       "    <tr>\n",
       "      <th>0</th>\n",
       "      <td>/home/aron/Documents/ImageClassification_Djang...</td>\n",
       "      <td>0</td>\n",
       "    </tr>\n",
       "    <tr>\n",
       "      <th>1</th>\n",
       "      <td>/home/aron/Documents/ImageClassification_Djang...</td>\n",
       "      <td>1</td>\n",
       "    </tr>\n",
       "    <tr>\n",
       "      <th>2</th>\n",
       "      <td>/home/aron/Documents/ImageClassification_Djang...</td>\n",
       "      <td>2</td>\n",
       "    </tr>\n",
       "    <tr>\n",
       "      <th>3</th>\n",
       "      <td>/home/aron/Documents/ImageClassification_Djang...</td>\n",
       "      <td>3</td>\n",
       "    </tr>\n",
       "    <tr>\n",
       "      <th>4</th>\n",
       "      <td>/home/aron/Documents/ImageClassification_Djang...</td>\n",
       "      <td>4</td>\n",
       "    </tr>\n",
       "    <tr>\n",
       "      <th>...</th>\n",
       "      <td>...</td>\n",
       "      <td>...</td>\n",
       "    </tr>\n",
       "    <tr>\n",
       "      <th>85</th>\n",
       "      <td>/home/aron/Documents/ImageClassification_Djang...</td>\n",
       "      <td>85</td>\n",
       "    </tr>\n",
       "    <tr>\n",
       "      <th>86</th>\n",
       "      <td>/home/aron/Documents/ImageClassification_Djang...</td>\n",
       "      <td>86</td>\n",
       "    </tr>\n",
       "    <tr>\n",
       "      <th>87</th>\n",
       "      <td>/home/aron/Documents/ImageClassification_Djang...</td>\n",
       "      <td>87</td>\n",
       "    </tr>\n",
       "    <tr>\n",
       "      <th>88</th>\n",
       "      <td>/home/aron/Documents/ImageClassification_Djang...</td>\n",
       "      <td>88</td>\n",
       "    </tr>\n",
       "    <tr>\n",
       "      <th>89</th>\n",
       "      <td>/home/aron/Documents/ImageClassification_Djang...</td>\n",
       "      <td>89</td>\n",
       "    </tr>\n",
       "  </tbody>\n",
       "</table>\n",
       "<p>90 rows × 2 columns</p>\n",
       "</div>"
      ],
      "text/plain": [
       "                                                image  label\n",
       "0   /home/aron/Documents/ImageClassification_Djang...      0\n",
       "1   /home/aron/Documents/ImageClassification_Djang...      1\n",
       "2   /home/aron/Documents/ImageClassification_Djang...      2\n",
       "3   /home/aron/Documents/ImageClassification_Djang...      3\n",
       "4   /home/aron/Documents/ImageClassification_Djang...      4\n",
       "..                                                ...    ...\n",
       "85  /home/aron/Documents/ImageClassification_Djang...     85\n",
       "86  /home/aron/Documents/ImageClassification_Djang...     86\n",
       "87  /home/aron/Documents/ImageClassification_Djang...     87\n",
       "88  /home/aron/Documents/ImageClassification_Djang...     88\n",
       "89  /home/aron/Documents/ImageClassification_Djang...     89\n",
       "\n",
       "[90 rows x 2 columns]"
      ]
     },
     "execution_count": 108,
     "metadata": {},
     "output_type": "execute_result"
    }
   ],
   "source": [
    "df"
   ]
  },
  {
   "cell_type": "code",
   "execution_count": 109,
   "metadata": {},
   "outputs": [],
   "source": [
    "df  = df.sample(frac=1).reset_index(drop=True)"
   ]
  },
  {
   "cell_type": "code",
   "execution_count": 110,
   "metadata": {},
   "outputs": [
    {
     "data": {
      "text/html": [
       "<div>\n",
       "<style scoped>\n",
       "    .dataframe tbody tr th:only-of-type {\n",
       "        vertical-align: middle;\n",
       "    }\n",
       "\n",
       "    .dataframe tbody tr th {\n",
       "        vertical-align: top;\n",
       "    }\n",
       "\n",
       "    .dataframe thead th {\n",
       "        text-align: right;\n",
       "    }\n",
       "</style>\n",
       "<table border=\"1\" class=\"dataframe\">\n",
       "  <thead>\n",
       "    <tr style=\"text-align: right;\">\n",
       "      <th></th>\n",
       "      <th>image</th>\n",
       "      <th>label</th>\n",
       "    </tr>\n",
       "  </thead>\n",
       "  <tbody>\n",
       "    <tr>\n",
       "      <th>0</th>\n",
       "      <td>/home/aron/Documents/ImageClassification_Djang...</td>\n",
       "      <td>64</td>\n",
       "    </tr>\n",
       "    <tr>\n",
       "      <th>1</th>\n",
       "      <td>/home/aron/Documents/ImageClassification_Djang...</td>\n",
       "      <td>0</td>\n",
       "    </tr>\n",
       "    <tr>\n",
       "      <th>2</th>\n",
       "      <td>/home/aron/Documents/ImageClassification_Djang...</td>\n",
       "      <td>17</td>\n",
       "    </tr>\n",
       "    <tr>\n",
       "      <th>3</th>\n",
       "      <td>/home/aron/Documents/ImageClassification_Djang...</td>\n",
       "      <td>38</td>\n",
       "    </tr>\n",
       "    <tr>\n",
       "      <th>4</th>\n",
       "      <td>/home/aron/Documents/ImageClassification_Djang...</td>\n",
       "      <td>85</td>\n",
       "    </tr>\n",
       "    <tr>\n",
       "      <th>...</th>\n",
       "      <td>...</td>\n",
       "      <td>...</td>\n",
       "    </tr>\n",
       "    <tr>\n",
       "      <th>85</th>\n",
       "      <td>/home/aron/Documents/ImageClassification_Djang...</td>\n",
       "      <td>28</td>\n",
       "    </tr>\n",
       "    <tr>\n",
       "      <th>86</th>\n",
       "      <td>/home/aron/Documents/ImageClassification_Djang...</td>\n",
       "      <td>68</td>\n",
       "    </tr>\n",
       "    <tr>\n",
       "      <th>87</th>\n",
       "      <td>/home/aron/Documents/ImageClassification_Djang...</td>\n",
       "      <td>52</td>\n",
       "    </tr>\n",
       "    <tr>\n",
       "      <th>88</th>\n",
       "      <td>/home/aron/Documents/ImageClassification_Djang...</td>\n",
       "      <td>14</td>\n",
       "    </tr>\n",
       "    <tr>\n",
       "      <th>89</th>\n",
       "      <td>/home/aron/Documents/ImageClassification_Djang...</td>\n",
       "      <td>39</td>\n",
       "    </tr>\n",
       "  </tbody>\n",
       "</table>\n",
       "<p>90 rows × 2 columns</p>\n",
       "</div>"
      ],
      "text/plain": [
       "                                                image  label\n",
       "0   /home/aron/Documents/ImageClassification_Djang...     64\n",
       "1   /home/aron/Documents/ImageClassification_Djang...      0\n",
       "2   /home/aron/Documents/ImageClassification_Djang...     17\n",
       "3   /home/aron/Documents/ImageClassification_Djang...     38\n",
       "4   /home/aron/Documents/ImageClassification_Djang...     85\n",
       "..                                                ...    ...\n",
       "85  /home/aron/Documents/ImageClassification_Djang...     28\n",
       "86  /home/aron/Documents/ImageClassification_Djang...     68\n",
       "87  /home/aron/Documents/ImageClassification_Djang...     52\n",
       "88  /home/aron/Documents/ImageClassification_Djang...     14\n",
       "89  /home/aron/Documents/ImageClassification_Djang...     39\n",
       "\n",
       "[90 rows x 2 columns]"
      ]
     },
     "execution_count": 110,
     "metadata": {},
     "output_type": "execute_result"
    }
   ],
   "source": [
    "df"
   ]
  },
  {
   "cell_type": "code",
   "execution_count": null,
   "metadata": {},
   "outputs": [],
   "source": []
  },
  {
   "cell_type": "code",
   "execution_count": 111,
   "metadata": {},
   "outputs": [],
   "source": [
    "from sklearn.model_selection import train_test_split\n"
   ]
  },
  {
   "cell_type": "code",
   "execution_count": null,
   "metadata": {},
   "outputs": [],
   "source": []
  },
  {
   "cell_type": "code",
   "execution_count": null,
   "metadata": {},
   "outputs": [],
   "source": []
  },
  {
   "cell_type": "code",
   "execution_count": null,
   "metadata": {},
   "outputs": [],
   "source": []
  },
  {
   "cell_type": "code",
   "execution_count": 116,
   "metadata": {},
   "outputs": [
    {
     "ename": "TypeError",
     "evalue": "listdir: path should be string, bytes, os.PathLike, integer or None, not list",
     "output_type": "error",
     "traceback": [
      "\u001b[0;31m---------------------------------------------------------------------------\u001b[0m",
      "\u001b[0;31mTypeError\u001b[0m                                 Traceback (most recent call last)",
      "\u001b[0;32m/tmp/ipykernel_7554/2316588358.py\u001b[0m in \u001b[0;36m<module>\u001b[0;34m\u001b[0m\n\u001b[1;32m      6\u001b[0m \u001b[0;34m\u001b[0m\u001b[0m\n\u001b[1;32m      7\u001b[0m \u001b[0;34m\u001b[0m\u001b[0m\n\u001b[0;32m----> 8\u001b[0;31m train_generator = data_generator.flow_from_directory(\n\u001b[0m\u001b[1;32m      9\u001b[0m         \u001b[0minputs\u001b[0m\u001b[0;34m,\u001b[0m\u001b[0;34m\u001b[0m\u001b[0;34m\u001b[0m\u001b[0m\n\u001b[1;32m     10\u001b[0m         \u001b[0mtarget_size\u001b[0m\u001b[0;34m=\u001b[0m\u001b[0;34m(\u001b[0m\u001b[0;36m224\u001b[0m\u001b[0;34m,\u001b[0m \u001b[0;36m224\u001b[0m\u001b[0;34m)\u001b[0m\u001b[0;34m,\u001b[0m\u001b[0;34m\u001b[0m\u001b[0;34m\u001b[0m\u001b[0m\n",
      "\u001b[0;32m~/anaconda3/lib/python3.9/site-packages/keras/preprocessing/image.py\u001b[0m in \u001b[0;36mflow_from_directory\u001b[0;34m(self, directory, target_size, color_mode, classes, class_mode, batch_size, shuffle, seed, save_to_dir, save_prefix, save_format, follow_links, subset, interpolation)\u001b[0m\n\u001b[1;32m    974\u001b[0m             \u001b[0;32mand\u001b[0m\u001b[0;31m \u001b[0m\u001b[0;31m`\u001b[0m\u001b[0my\u001b[0m\u001b[0;31m`\u001b[0m \u001b[0;32mis\u001b[0m \u001b[0ma\u001b[0m \u001b[0mnumpy\u001b[0m \u001b[0marray\u001b[0m \u001b[0mof\u001b[0m \u001b[0mcorresponding\u001b[0m \u001b[0mlabels\u001b[0m\u001b[0;34m.\u001b[0m\u001b[0;34m\u001b[0m\u001b[0;34m\u001b[0m\u001b[0m\n\u001b[1;32m    975\u001b[0m     \"\"\"\n\u001b[0;32m--> 976\u001b[0;31m     return DirectoryIterator(\n\u001b[0m\u001b[1;32m    977\u001b[0m         \u001b[0mdirectory\u001b[0m\u001b[0;34m,\u001b[0m\u001b[0;34m\u001b[0m\u001b[0;34m\u001b[0m\u001b[0m\n\u001b[1;32m    978\u001b[0m         \u001b[0mself\u001b[0m\u001b[0;34m,\u001b[0m\u001b[0;34m\u001b[0m\u001b[0;34m\u001b[0m\u001b[0m\n",
      "\u001b[0;32m~/anaconda3/lib/python3.9/site-packages/keras/preprocessing/image.py\u001b[0m in \u001b[0;36m__init__\u001b[0;34m(self, directory, image_data_generator, target_size, color_mode, classes, class_mode, batch_size, shuffle, seed, data_format, save_to_dir, save_prefix, save_format, follow_links, subset, interpolation, dtype)\u001b[0m\n\u001b[1;32m    392\u001b[0m         \u001b[0mdtype\u001b[0m \u001b[0;34m=\u001b[0m \u001b[0mbackend\u001b[0m\u001b[0;34m.\u001b[0m\u001b[0mfloatx\u001b[0m\u001b[0;34m(\u001b[0m\u001b[0;34m)\u001b[0m\u001b[0;34m\u001b[0m\u001b[0;34m\u001b[0m\u001b[0m\n\u001b[1;32m    393\u001b[0m       \u001b[0mkwargs\u001b[0m\u001b[0;34m[\u001b[0m\u001b[0;34m'dtype'\u001b[0m\u001b[0;34m]\u001b[0m \u001b[0;34m=\u001b[0m \u001b[0mdtype\u001b[0m\u001b[0;34m\u001b[0m\u001b[0;34m\u001b[0m\u001b[0m\n\u001b[0;32m--> 394\u001b[0;31m     super(DirectoryIterator, self).__init__(\n\u001b[0m\u001b[1;32m    395\u001b[0m         \u001b[0mdirectory\u001b[0m\u001b[0;34m,\u001b[0m \u001b[0mimage_data_generator\u001b[0m\u001b[0;34m,\u001b[0m\u001b[0;34m\u001b[0m\u001b[0;34m\u001b[0m\u001b[0m\n\u001b[1;32m    396\u001b[0m         \u001b[0mtarget_size\u001b[0m\u001b[0;34m=\u001b[0m\u001b[0mtarget_size\u001b[0m\u001b[0;34m,\u001b[0m\u001b[0;34m\u001b[0m\u001b[0;34m\u001b[0m\u001b[0m\n",
      "\u001b[0;32m~/anaconda3/lib/python3.9/site-packages/keras_preprocessing/image/directory_iterator.py\u001b[0m in \u001b[0;36m__init__\u001b[0;34m(self, directory, image_data_generator, target_size, color_mode, classes, class_mode, batch_size, shuffle, seed, data_format, save_to_dir, save_prefix, save_format, follow_links, subset, interpolation, dtype)\u001b[0m\n\u001b[1;32m    113\u001b[0m         \u001b[0;32mif\u001b[0m \u001b[0;32mnot\u001b[0m \u001b[0mclasses\u001b[0m\u001b[0;34m:\u001b[0m\u001b[0;34m\u001b[0m\u001b[0;34m\u001b[0m\u001b[0m\n\u001b[1;32m    114\u001b[0m             \u001b[0mclasses\u001b[0m \u001b[0;34m=\u001b[0m \u001b[0;34m[\u001b[0m\u001b[0;34m]\u001b[0m\u001b[0;34m\u001b[0m\u001b[0;34m\u001b[0m\u001b[0m\n\u001b[0;32m--> 115\u001b[0;31m             \u001b[0;32mfor\u001b[0m \u001b[0msubdir\u001b[0m \u001b[0;32min\u001b[0m \u001b[0msorted\u001b[0m\u001b[0;34m(\u001b[0m\u001b[0mos\u001b[0m\u001b[0;34m.\u001b[0m\u001b[0mlistdir\u001b[0m\u001b[0;34m(\u001b[0m\u001b[0mdirectory\u001b[0m\u001b[0;34m)\u001b[0m\u001b[0;34m)\u001b[0m\u001b[0;34m:\u001b[0m\u001b[0;34m\u001b[0m\u001b[0;34m\u001b[0m\u001b[0m\n\u001b[0m\u001b[1;32m    116\u001b[0m                 \u001b[0;32mif\u001b[0m \u001b[0mos\u001b[0m\u001b[0;34m.\u001b[0m\u001b[0mpath\u001b[0m\u001b[0;34m.\u001b[0m\u001b[0misdir\u001b[0m\u001b[0;34m(\u001b[0m\u001b[0mos\u001b[0m\u001b[0;34m.\u001b[0m\u001b[0mpath\u001b[0m\u001b[0;34m.\u001b[0m\u001b[0mjoin\u001b[0m\u001b[0;34m(\u001b[0m\u001b[0mdirectory\u001b[0m\u001b[0;34m,\u001b[0m \u001b[0msubdir\u001b[0m\u001b[0;34m)\u001b[0m\u001b[0;34m)\u001b[0m\u001b[0;34m:\u001b[0m\u001b[0;34m\u001b[0m\u001b[0;34m\u001b[0m\u001b[0m\n\u001b[1;32m    117\u001b[0m                     \u001b[0mclasses\u001b[0m\u001b[0;34m.\u001b[0m\u001b[0mappend\u001b[0m\u001b[0;34m(\u001b[0m\u001b[0msubdir\u001b[0m\u001b[0;34m)\u001b[0m\u001b[0;34m\u001b[0m\u001b[0;34m\u001b[0m\u001b[0m\n",
      "\u001b[0;31mTypeError\u001b[0m: listdir: path should be string, bytes, os.PathLike, integer or None, not list"
     ]
    }
   ],
   "source": [
    "from keras.preprocessing.image import ImageDataGenerator\n",
    "from keras.applications.resnet import preprocess_input\n",
    "image_size = 224\n",
    "data_generator = ImageDataGenerator(preprocessing_function=preprocess_input)\n",
    "\n",
    "\n",
    "\n",
    "train_generator = data_generator.flow_from_directory(\n",
    "        inputs,\n",
    "        target_size=(224, 224),\n",
    "        batch_size=10,\n",
    "        class_mode='categorical')\n"
   ]
  },
  {
   "cell_type": "code",
   "execution_count": 113,
   "metadata": {},
   "outputs": [
    {
     "data": {
      "text/plain": [
       "'/home/aron/Documents/ImageClassification_DjangoApp-master/notebook'"
      ]
     },
     "execution_count": 113,
     "metadata": {},
     "output_type": "execute_result"
    }
   ],
   "source": [
    "path = os.getcwd()\n",
    "path"
   ]
  },
  {
   "cell_type": "code",
   "execution_count": 114,
   "metadata": {},
   "outputs": [
    {
     "name": "stderr",
     "output_type": "stream",
     "text": [
      "/tmp/ipykernel_7554/1139474544.py:4: VisibleDeprecationWarning: Creating an ndarray from ragged nested sequences (which is a list-or-tuple of lists-or-tuples-or ndarrays with different lengths or shapes) is deprecated. If you meant to do this, you must specify 'dtype=object' when creating the ndarray.\n",
      "  train= np.array(train)\n"
     ]
    }
   ],
   "source": [
    "import pickle\n",
    "with open(os.path.join(path,'train.pickle'),'rb') as f:\n",
    "    train =pickle.load(f)\n",
    "    train= np.array(train)"
   ]
  },
  {
   "cell_type": "code",
   "execution_count": 233,
   "metadata": {},
   "outputs": [],
   "source": [
    "with open(os.path.join(path,'val.pickle'),'rb') as f:\n",
    "    val= pickle.load(f)\n",
    "    "
   ]
  },
  {
   "cell_type": "code",
   "execution_count": 234,
   "metadata": {},
   "outputs": [
    {
     "ename": "ValueError",
     "evalue": "Failed to find data adapter that can handle input: (<class 'tuple'> containing values of types {'(<class \\'dict\\'> containing {\"<class \\'str\\'>\"} keys and {\"<class \\'int\\'>\"} values)', \"<class 'numpy.ndarray'>\"}), <class 'NoneType'>",
     "output_type": "error",
     "traceback": [
      "\u001b[0;31m---------------------------------------------------------------------------\u001b[0m",
      "\u001b[0;31mValueError\u001b[0m                                Traceback (most recent call last)",
      "\u001b[0;32m/tmp/ipykernel_2142/1141587619.py\u001b[0m in \u001b[0;36m<module>\u001b[0;34m\u001b[0m\n\u001b[0;32m----> 1\u001b[0;31m \u001b[0mfit_history\u001b[0m \u001b[0;34m=\u001b[0m \u001b[0mmodel\u001b[0m\u001b[0;34m.\u001b[0m\u001b[0mfit\u001b[0m\u001b[0;34m(\u001b[0m\u001b[0mtrain\u001b[0m\u001b[0;34m,\u001b[0m\u001b[0mepochs\u001b[0m\u001b[0;34m=\u001b[0m\u001b[0;36m5\u001b[0m\u001b[0;34m,\u001b[0m\u001b[0mvalidation_data\u001b[0m\u001b[0;34m=\u001b[0m\u001b[0mval\u001b[0m\u001b[0;34m)\u001b[0m\u001b[0;34m\u001b[0m\u001b[0;34m\u001b[0m\u001b[0m\n\u001b[0m",
      "\u001b[0;32m~/anaconda3/lib/python3.9/site-packages/keras/utils/traceback_utils.py\u001b[0m in \u001b[0;36merror_handler\u001b[0;34m(*args, **kwargs)\u001b[0m\n\u001b[1;32m     65\u001b[0m     \u001b[0;32mexcept\u001b[0m \u001b[0mException\u001b[0m \u001b[0;32mas\u001b[0m \u001b[0me\u001b[0m\u001b[0;34m:\u001b[0m  \u001b[0;31m# pylint: disable=broad-except\u001b[0m\u001b[0;34m\u001b[0m\u001b[0;34m\u001b[0m\u001b[0m\n\u001b[1;32m     66\u001b[0m       \u001b[0mfiltered_tb\u001b[0m \u001b[0;34m=\u001b[0m \u001b[0m_process_traceback_frames\u001b[0m\u001b[0;34m(\u001b[0m\u001b[0me\u001b[0m\u001b[0;34m.\u001b[0m\u001b[0m__traceback__\u001b[0m\u001b[0;34m)\u001b[0m\u001b[0;34m\u001b[0m\u001b[0;34m\u001b[0m\u001b[0m\n\u001b[0;32m---> 67\u001b[0;31m       \u001b[0;32mraise\u001b[0m \u001b[0me\u001b[0m\u001b[0;34m.\u001b[0m\u001b[0mwith_traceback\u001b[0m\u001b[0;34m(\u001b[0m\u001b[0mfiltered_tb\u001b[0m\u001b[0;34m)\u001b[0m \u001b[0;32mfrom\u001b[0m \u001b[0;32mNone\u001b[0m\u001b[0;34m\u001b[0m\u001b[0;34m\u001b[0m\u001b[0m\n\u001b[0m\u001b[1;32m     68\u001b[0m     \u001b[0;32mfinally\u001b[0m\u001b[0;34m:\u001b[0m\u001b[0;34m\u001b[0m\u001b[0;34m\u001b[0m\u001b[0m\n\u001b[1;32m     69\u001b[0m       \u001b[0;32mdel\u001b[0m \u001b[0mfiltered_tb\u001b[0m\u001b[0;34m\u001b[0m\u001b[0;34m\u001b[0m\u001b[0m\n",
      "\u001b[0;32m~/anaconda3/lib/python3.9/site-packages/keras/engine/data_adapter.py\u001b[0m in \u001b[0;36mselect_data_adapter\u001b[0;34m(x, y)\u001b[0m\n\u001b[1;32m    982\u001b[0m   \u001b[0;32mif\u001b[0m \u001b[0;32mnot\u001b[0m \u001b[0madapter_cls\u001b[0m\u001b[0;34m:\u001b[0m\u001b[0;34m\u001b[0m\u001b[0;34m\u001b[0m\u001b[0m\n\u001b[1;32m    983\u001b[0m     \u001b[0;31m# TODO(scottzhu): This should be a less implementation-specific error.\u001b[0m\u001b[0;34m\u001b[0m\u001b[0;34m\u001b[0m\u001b[0m\n\u001b[0;32m--> 984\u001b[0;31m     raise ValueError(\n\u001b[0m\u001b[1;32m    985\u001b[0m         \u001b[0;34m\"Failed to find data adapter that can handle \"\u001b[0m\u001b[0;34m\u001b[0m\u001b[0;34m\u001b[0m\u001b[0m\n\u001b[1;32m    986\u001b[0m         \"input: {}, {}\".format(\n",
      "\u001b[0;31mValueError\u001b[0m: Failed to find data adapter that can handle input: (<class 'tuple'> containing values of types {'(<class \\'dict\\'> containing {\"<class \\'str\\'>\"} keys and {\"<class \\'int\\'>\"} values)', \"<class 'numpy.ndarray'>\"}), <class 'NoneType'>"
     ]
    }
   ],
   "source": [
    "fit_history = model.fit(train,epochs=5,validation_data=val)"
   ]
  },
  {
   "cell_type": "code",
   "execution_count": 5,
   "metadata": {},
   "outputs": [],
   "source": [
    "img_height, img_width=224,224"
   ]
  },
  {
   "cell_type": "code",
   "execution_count": 13,
   "metadata": {},
   "outputs": [],
   "source": [
    "testimage='bird-article-s.png'\n",
    "img = image.load_img(testimage, target_size=(img_height, img_width))\n",
    "x = image.img_to_array(img)\n",
    "x=x/255\n",
    "x=x.reshape(1,img_height, img_width,3)\n",
    "# model_graph = tf.\n",
    "# tf_session = modeScope['modelObj']['tf_session']\n",
    "# with model_graph.as_default():\n",
    "#     with tf_session.as_default():\n",
    "#         modelToUse=modeScope['modelObj']['recoModelObj'].model\n",
    "predi=model.predict(x)"
   ]
  },
  {
   "cell_type": "code",
   "execution_count": 14,
   "metadata": {},
   "outputs": [
    {
     "data": {
      "text/plain": [
       "11"
      ]
     },
     "execution_count": 14,
     "metadata": {},
     "output_type": "execute_result"
    }
   ],
   "source": [
    "import numpy as np\n",
    "np.argmax(predi[0])"
   ]
  },
  {
   "cell_type": "code",
   "execution_count": 15,
   "metadata": {},
   "outputs": [
    {
     "data": {
      "text/plain": [
       "['n01531178', 'goldfinch']"
      ]
     },
     "execution_count": 15,
     "metadata": {},
     "output_type": "execute_result"
    }
   ],
   "source": [
    "labelInfo['11']"
   ]
  },
  {
   "cell_type": "code",
   "execution_count": 18,
   "metadata": {},
   "outputs": [],
   "source": [
    "model.save('MobileNetModelImagenet.h5')"
   ]
  },
  {
   "cell_type": "code",
   "execution_count": 18,
   "metadata": {},
   "outputs": [],
   "source": [
    "import keras"
   ]
  },
  {
   "cell_type": "code",
   "execution_count": 19,
   "metadata": {},
   "outputs": [],
   "source": [
    "from keras.models import load_model"
   ]
  },
  {
   "cell_type": "code",
   "execution_count": 20,
   "metadata": {},
   "outputs": [
    {
     "name": "stderr",
     "output_type": "stream",
     "text": [
      "C:\\Users\\swsh\\AppData\\Local\\Continuum\\anaconda3\\envs\\py36\\lib\\site-packages\\keras\\engine\\saving.py:292: UserWarning: No training configuration found in save file: the model was *not* compiled. Compile it manually.\n",
      "  warnings.warn('No training configuration found in save file: '\n"
     ]
    },
    {
     "data": {
      "text/plain": [
       "<keras.engine.training.Model at 0x22c19f196a0>"
      ]
     },
     "execution_count": 20,
     "metadata": {},
     "output_type": "execute_result"
    }
   ],
   "source": [
    "load_model('MobileNetModelImagenet.h5')"
   ]
  },
  {
   "cell_type": "code",
   "execution_count": null,
   "metadata": {},
   "outputs": [],
   "source": []
  }
 ],
 "metadata": {
  "kernelspec": {
   "display_name": "Python 3 (ipykernel)",
   "language": "python",
   "name": "python3"
  },
  "language_info": {
   "codemirror_mode": {
    "name": "ipython",
    "version": 3
   },
   "file_extension": ".py",
   "mimetype": "text/x-python",
   "name": "python",
   "nbconvert_exporter": "python",
   "pygments_lexer": "ipython3",
   "version": "3.9.7"
  }
 },
 "nbformat": 4,
 "nbformat_minor": 2
}
